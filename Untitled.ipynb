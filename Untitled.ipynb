{
 "cells": [
  {
   "cell_type": "code",
   "execution_count": 1,
   "metadata": {},
   "outputs": [],
   "source": [
    "import random"
   ]
  },
  {
   "cell_type": "code",
   "execution_count": 11,
   "metadata": {},
   "outputs": [],
   "source": [
    "rand_list = []\n",
    "for i in range (100):\n",
    "    rand_list.append(random.randint(0,1000))"
   ]
  },
  {
   "cell_type": "code",
   "execution_count": 10,
   "metadata": {},
   "outputs": [
    {
     "data": {
      "text/plain": [
       "[951,\n",
       " 211,\n",
       " 600,\n",
       " 673,\n",
       " 435,\n",
       " 433,\n",
       " 710,\n",
       " 427,\n",
       " 311,\n",
       " 101,\n",
       " 203,\n",
       " 18,\n",
       " 25,\n",
       " 446,\n",
       " 709,\n",
       " 128,\n",
       " 156,\n",
       " 705,\n",
       " 213,\n",
       " 21,\n",
       " 434,\n",
       " 938,\n",
       " 159,\n",
       " 607,\n",
       " 615,\n",
       " 520,\n",
       " 916,\n",
       " 501,\n",
       " 518,\n",
       " 972,\n",
       " 357,\n",
       " 897,\n",
       " 531,\n",
       " 308,\n",
       " 613,\n",
       " 173,\n",
       " 982,\n",
       " 14,\n",
       " 432,\n",
       " 72,\n",
       " 10,\n",
       " 464,\n",
       " 640,\n",
       " 262,\n",
       " 567,\n",
       " 910,\n",
       " 176,\n",
       " 808,\n",
       " 387,\n",
       " 450,\n",
       " 107,\n",
       " 790,\n",
       " 958,\n",
       " 780,\n",
       " 774,\n",
       " 664,\n",
       " 224,\n",
       " 843,\n",
       " 789,\n",
       " 662,\n",
       " 459,\n",
       " 882,\n",
       " 683,\n",
       " 899,\n",
       " 163,\n",
       " 560,\n",
       " 691,\n",
       " 441,\n",
       " 124,\n",
       " 873,\n",
       " 376,\n",
       " 419,\n",
       " 355,\n",
       " 318,\n",
       " 257,\n",
       " 59,\n",
       " 450,\n",
       " 327,\n",
       " 679,\n",
       " 682,\n",
       " 436,\n",
       " 997,\n",
       " 480,\n",
       " 993,\n",
       " 212,\n",
       " 181,\n",
       " 297,\n",
       " 312,\n",
       " 650,\n",
       " 715,\n",
       " 594,\n",
       " 552,\n",
       " 879,\n",
       " 67,\n",
       " 254,\n",
       " 124,\n",
       " 781,\n",
       " 199,\n",
       " 953,\n",
       " 127]"
      ]
     },
     "execution_count": 10,
     "metadata": {},
     "output_type": "execute_result"
    }
   ],
   "source": [
    "rand_list"
   ]
  },
  {
   "cell_type": "code",
   "execution_count": null,
   "metadata": {},
   "outputs": [],
   "source": []
  }
 ],
 "metadata": {
  "kernelspec": {
   "display_name": "Python 3",
   "language": "python",
   "name": "python3"
  },
  "language_info": {
   "codemirror_mode": {
    "name": "ipython",
    "version": 3
   },
   "file_extension": ".py",
   "mimetype": "text/x-python",
   "name": "python",
   "nbconvert_exporter": "python",
   "pygments_lexer": "ipython3",
   "version": "3.8.3"
  }
 },
 "nbformat": 4,
 "nbformat_minor": 4
}
