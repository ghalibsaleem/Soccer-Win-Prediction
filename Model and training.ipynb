{
 "cells": [
  {
   "cell_type": "code",
   "execution_count": 158,
   "metadata": {},
   "outputs": [],
   "source": [
    "import pickle\n",
    "import numpy as np\n",
    "import pandas as pd\n",
    "import tensorflow as tf\n",
    "from tensorflow import keras as kr\n",
    "import random\n",
    "import matplotlib as plt"
   ]
  },
  {
   "cell_type": "code",
   "execution_count": 96,
   "metadata": {},
   "outputs": [],
   "source": [
    "with open('output/dfdata.ser', 'rb') as fl:\n",
    "    main_data = pickle.load(fl)"
   ]
  },
  {
   "cell_type": "code",
   "execution_count": 97,
   "metadata": {},
   "outputs": [],
   "source": [
    "rand_list = []\n",
    "for i in range (100):\n",
    "    rand_list.append(random.randint(0,len(main_data)))"
   ]
  },
  {
   "cell_type": "code",
   "execution_count": 98,
   "metadata": {},
   "outputs": [
    {
     "name": "stderr",
     "output_type": "stream",
     "text": [
      "<ipython-input-98-ffbfcb272dae>:2: SettingWithCopyWarning: \n",
      "A value is trying to be set on a copy of a slice from a DataFrame\n",
      "\n",
      "See the caveats in the documentation: https://pandas.pydata.org/pandas-docs/stable/user_guide/indexing.html#returning-a-view-versus-a-copy\n",
      "  main_data['Home'][index] = main_data['Home'][index].to_numpy()\n",
      "<ipython-input-98-ffbfcb272dae>:3: SettingWithCopyWarning: \n",
      "A value is trying to be set on a copy of a slice from a DataFrame\n",
      "\n",
      "See the caveats in the documentation: https://pandas.pydata.org/pandas-docs/stable/user_guide/indexing.html#returning-a-view-versus-a-copy\n",
      "  main_data['Away'][index] = main_data['Away'][index].to_numpy()\n"
     ]
    }
   ],
   "source": [
    "for index in range(len(main_data['Home'])):\n",
    "    main_data['Home'][index] = main_data['Home'][index].to_numpy()\n",
    "    main_data['Away'][index] = main_data['Away'][index].to_numpy()"
   ]
  },
  {
   "cell_type": "code",
   "execution_count": 99,
   "metadata": {},
   "outputs": [],
   "source": [
    "main_data['AWin'] = (np.less_equal(main_data[\"Hscore\"], main_data['Ascore'])).astype(int)\n",
    "main_data['HWin'] = (np.greater(main_data[\"Hscore\"], main_data['Ascore'])).astype(int)"
   ]
  },
  {
   "cell_type": "code",
   "execution_count": 100,
   "metadata": {},
   "outputs": [],
   "source": [
    "input_data1 = main_data['Home']\n",
    "input_data2 = main_data['Away']\n",
    "output_data = main_data[['HWin','AWin']]\n",
    "output_data = main_data['HWin']\n",
    "#output_data = main_data[['Hscore','Ascore']]"
   ]
  },
  {
   "cell_type": "code",
   "execution_count": 101,
   "metadata": {},
   "outputs": [],
   "source": [
    "input_data1 = input_data1.to_numpy()\n",
    "input_data2 = input_data2.to_numpy()\n",
    "output_data = output_data.to_numpy()\n",
    "for index in range(len(input_data1)):\n",
    "    input_data1[index] = input_data1[index].flatten()\n",
    "    input_data2[index] = input_data2[index].flatten()\n",
    "\n",
    "    \n",
    "test_data1 = []\n",
    "test_data2 = []\n",
    "test_out = []\n",
    "for item in rand_list:\n",
    "    test_data1.append(input_data1[item])\n",
    "    test_data2.append(input_data2[item])\n",
    "    test_out.append(output_data[item])\n",
    "\n",
    "input_data1 = np.delete(input_data1,rand_list)\n",
    "input_data2 = np.delete(input_data2,rand_list)\n",
    "output_data = np.delete(output_data, rand_list)\n",
    "\n",
    "input_data1 = input_data1.tolist()\n",
    "input_data1 = tf.convert_to_tensor(input_data1,np.float32)\n",
    "input_data2 = input_data2.tolist()\n",
    "input_data2 = tf.convert_to_tensor(input_data2,np.float32)\n",
    "output_data = tf.convert_to_tensor(output_data, np.float32)"
   ]
  },
  {
   "cell_type": "code",
   "execution_count": 104,
   "metadata": {},
   "outputs": [],
   "source": [
    "test_data1 = tf.convert_to_tensor(test_data1,np.float32)\n",
    "test_data2 = tf.convert_to_tensor(test_data2,np.float32)\n",
    "test_out = tf.convert_to_tensor(test_out, np.float32)                                "
   ]
  },
  {
   "cell_type": "code",
   "execution_count": 105,
   "metadata": {},
   "outputs": [
    {
     "data": {
      "text/plain": [
       "tensorflow.python.framework.ops.EagerTensor"
      ]
     },
     "execution_count": 105,
     "metadata": {},
     "output_type": "execute_result"
    }
   ],
   "source": [
    "type(test_data1)"
   ]
  },
  {
   "cell_type": "code",
   "execution_count": 106,
   "metadata": {},
   "outputs": [
    {
     "data": {
      "text/plain": [
       "TensorShape([100, 902])"
      ]
     },
     "execution_count": 106,
     "metadata": {},
     "output_type": "execute_result"
    }
   ],
   "source": [
    "test_data1.shape"
   ]
  },
  {
   "cell_type": "code",
   "execution_count": 163,
   "metadata": {},
   "outputs": [],
   "source": [
    "input1 = kr.layers.Input(shape=(902), name='I1')\n",
    "dense1 = kr.layers.Dense(902, activation='relu')(input1)\n",
    "dense1 = kr.layers.Dense(1804, activation='relu')(dense1)\n",
    "dense10 = kr.layers.Dense(902, activation='relu',activity_regularizer=kr.regularizers.l1(0.01))(dense1)\n",
    "\n",
    "input2 = kr.layers.Input(shape=(902), name='I2')\n",
    "dense2 = kr.layers.Dense(902, activation='relu')(input2)\n",
    "dense2 = kr.layers.Dense(1804, activation='relu')(dense2)\n",
    "dense20 = kr.layers.Dense(902, activation='relu', activity_regularizer=kr.regularizers.l1(0.01))(dense2)\n",
    "\n",
    "merge_one = kr.layers.concatenate([dense10, dense20])\n",
    "\n",
    "\n",
    "dense3 = kr.layers.Dense(902, activation='relu')(merge_one)\n",
    "dense3 = kr.layers.Dense(1804, activation='relu')(dense3)\n",
    "# dense3 = kr.layers.Dropout(0.5)(dense3)\n",
    "dense3 = kr.layers.Dense(902, activation='relu', activity_regularizer=kr.regularizers.l1(0.01))(dense3)\n",
    "# dense3 = kr.layers.Dropout(0.5)(dense3)\n",
    "dense3 = kr.layers.Dense(1, activation='sigmoid')(dense3)\n",
    "# dense3 = kr.layers.Activation('relu')(dense3)\n",
    "\n",
    "\n",
    "modef = kr.Model(inputs=[input1, input2], outputs= dense3)"
   ]
  },
  {
   "cell_type": "code",
   "execution_count": 164,
   "metadata": {},
   "outputs": [
    {
     "name": "stdout",
     "output_type": "stream",
     "text": [
      "Model: \"functional_48\"\n",
      "__________________________________________________________________________________________________\n",
      "Layer (type)                    Output Shape         Param #     Connected to                     \n",
      "==================================================================================================\n",
      "I1 (InputLayer)                 [(None, 902)]        0                                            \n",
      "__________________________________________________________________________________________________\n",
      "I2 (InputLayer)                 [(None, 902)]        0                                            \n",
      "__________________________________________________________________________________________________\n",
      "dense_252 (Dense)               (None, 902)          814506      I1[0][0]                         \n",
      "__________________________________________________________________________________________________\n",
      "dense_255 (Dense)               (None, 902)          814506      I2[0][0]                         \n",
      "__________________________________________________________________________________________________\n",
      "dense_253 (Dense)               (None, 1804)         1629012     dense_252[0][0]                  \n",
      "__________________________________________________________________________________________________\n",
      "dense_256 (Dense)               (None, 1804)         1629012     dense_255[0][0]                  \n",
      "__________________________________________________________________________________________________\n",
      "dense_254 (Dense)               (None, 902)          1628110     dense_253[0][0]                  \n",
      "__________________________________________________________________________________________________\n",
      "dense_257 (Dense)               (None, 902)          1628110     dense_256[0][0]                  \n",
      "__________________________________________________________________________________________________\n",
      "concatenate_24 (Concatenate)    (None, 1804)         0           dense_254[0][0]                  \n",
      "                                                                 dense_257[0][0]                  \n",
      "__________________________________________________________________________________________________\n",
      "dense_258 (Dense)               (None, 902)          1628110     concatenate_24[0][0]             \n",
      "__________________________________________________________________________________________________\n",
      "dense_259 (Dense)               (None, 1804)         1629012     dense_258[0][0]                  \n",
      "__________________________________________________________________________________________________\n",
      "dense_260 (Dense)               (None, 902)          1628110     dense_259[0][0]                  \n",
      "__________________________________________________________________________________________________\n",
      "dense_261 (Dense)               (None, 1)            903         dense_260[0][0]                  \n",
      "==================================================================================================\n",
      "Total params: 13,029,391\n",
      "Trainable params: 13,029,391\n",
      "Non-trainable params: 0\n",
      "__________________________________________________________________________________________________\n"
     ]
    }
   ],
   "source": [
    "modef.summary()"
   ]
  },
  {
   "cell_type": "code",
   "execution_count": 165,
   "metadata": {},
   "outputs": [],
   "source": [
    "optzr = kr.optimizers.Adamax(learning_rate=0.001)\n",
    "modef.compile(loss='mean_squared_error', optimizer=optzr, metrics=[\"accuracy\"])"
   ]
  },
  {
   "cell_type": "code",
   "execution_count": 166,
   "metadata": {},
   "outputs": [
    {
     "name": "stdout",
     "output_type": "stream",
     "text": [
      "Epoch 1/10\n",
      "69/69 [==============================] - 4s 52ms/step - loss: 4.8057 - accuracy: 0.5303\n",
      "Epoch 2/10\n",
      "69/69 [==============================] - 4s 54ms/step - loss: 0.2498 - accuracy: 0.5358\n",
      "Epoch 3/10\n",
      "69/69 [==============================] - 4s 52ms/step - loss: 0.2496 - accuracy: 0.5358\n",
      "Epoch 4/10\n",
      "69/69 [==============================] - 4s 58ms/step - loss: 0.2495 - accuracy: 0.5358\n",
      "Epoch 5/10\n",
      "69/69 [==============================] - 4s 56ms/step - loss: 0.2494 - accuracy: 0.5358\n",
      "Epoch 6/10\n",
      "69/69 [==============================] - 4s 54ms/step - loss: 0.2493 - accuracy: 0.5358\n",
      "Epoch 7/10\n",
      "69/69 [==============================] - 4s 55ms/step - loss: 0.2493 - accuracy: 0.5358\n",
      "Epoch 8/10\n",
      "69/69 [==============================] - 4s 59ms/step - loss: 0.2492 - accuracy: 0.5358\n",
      "Epoch 9/10\n",
      "69/69 [==============================] - 4s 58ms/step - loss: 0.2491 - accuracy: 0.5358\n",
      "Epoch 10/10\n",
      "69/69 [==============================] - 4s 57ms/step - loss: 0.2491 - accuracy: 0.5358\n"
     ]
    }
   ],
   "source": [
    "history = modef.fit(x={'I1':input_data1, 'I2':input_data2}, y=output_data, epochs=10)"
   ]
  },
  {
   "cell_type": "code",
   "execution_count": 145,
   "metadata": {},
   "outputs": [
    {
     "name": "stdout",
     "output_type": "stream",
     "text": [
      "4/4 [==============================] - 0s 8ms/step - loss: 0.2483 - accuracy: 0.5600\n"
     ]
    }
   ],
   "source": [
    "results = modef.evaluate(x={'I1':test_data1, 'I2':test_data2}, y=test_out)"
   ]
  },
  {
   "cell_type": "code",
   "execution_count": 149,
   "metadata": {},
   "outputs": [],
   "source": []
  },
  {
   "cell_type": "code",
   "execution_count": null,
   "metadata": {},
   "outputs": [],
   "source": []
  }
 ],
 "metadata": {
  "kernelspec": {
   "display_name": "Python 3",
   "language": "python",
   "name": "python3"
  },
  "language_info": {
   "codemirror_mode": {
    "name": "ipython",
    "version": 3
   },
   "file_extension": ".py",
   "mimetype": "text/x-python",
   "name": "python",
   "nbconvert_exporter": "python",
   "pygments_lexer": "ipython3",
   "version": "3.8.3"
  }
 },
 "nbformat": 4,
 "nbformat_minor": 4
}
