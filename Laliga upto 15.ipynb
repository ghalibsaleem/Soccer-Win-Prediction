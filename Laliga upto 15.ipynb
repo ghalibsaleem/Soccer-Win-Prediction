{
 "cells": [
  {
   "cell_type": "code",
   "execution_count": 1,
   "metadata": {},
   "outputs": [],
   "source": [
    "import numpy as np\n",
    "import tensorflow as tf\n",
    "import pandas as pd\n",
    "import pickle"
   ]
  },
  {
   "cell_type": "code",
   "execution_count": 2,
   "metadata": {},
   "outputs": [],
   "source": [
    "df_laliga=pd.read_csv('data/games/laliga/la-liga_2014-15_to_2019-20.csv', sep=',')\n",
    "\n",
    "df_player_list = []\n",
    "df_player_list.append(pd.read_csv('data/players/players_15.csv', sep=','))\n",
    "df_player_list.append(pd.read_csv('data/players/players_16.csv', sep=','))\n",
    "df_player_list.append(pd.read_csv('data/players/players_17.csv', sep=','))\n",
    "df_player_list.append(pd.read_csv('data/players/players_18.csv', sep=','))\n",
    "df_player_list.append(pd.read_csv('data/players/players_19.csv', sep=','))\n",
    "df_player_list.append(pd.read_csv('data/players/players_20.csv', sep=','))"
   ]
  },
  {
   "cell_type": "code",
   "execution_count": 3,
   "metadata": {},
   "outputs": [],
   "source": [
    "df_laliga.loc[df_laliga['Home \\ Away'] == 'Alavés', 'Home \\ Away'] = 'Deportivo Alavés'\n",
    "df_laliga.loc[df_laliga['Home \\ Away'] == 'Athletic Bilbao', 'Home \\ Away'] = 'Athletic Club de Bilbao'\n",
    "df_laliga.loc[df_laliga['Home \\ Away'] == 'Barcelona', 'Home \\ Away'] = 'FC Barcelona'\n",
    "df_laliga.loc[df_laliga['Home \\ Away'] == 'Celta Vigo', 'Home \\ Away'] = 'RC Celta'\n",
    "df_laliga.loc[df_laliga['Home \\ Away'] == 'Eibar', 'Home \\ Away'] = 'SD Eibar'\n",
    "df_laliga.loc[df_laliga['Home \\ Away'] == 'Espanyol', 'Home \\ Away'] = 'RCD Espanyol'\n",
    "df_laliga.loc[df_laliga['Home \\ Away'] == 'Getafe', 'Home \\ Away'] = 'Getafe CF'\n",
    "df_laliga.loc[df_laliga['Home \\ Away'] == 'Granada', 'Home \\ Away'] = 'Granada CF'\n",
    "df_laliga.loc[df_laliga['Home \\ Away'] == 'Leganés', 'Home \\ Away'] = 'CD Leganés'\n",
    "df_laliga.loc[df_laliga['Home \\ Away'] == 'Levante', 'Home \\ Away'] = 'Levante UD'\n",
    "df_laliga.loc[df_laliga['Home \\ Away'] == 'Mallorca', 'Home \\ Away'] = 'RCD Mallorca'\n",
    "df_laliga.loc[df_laliga['Home \\ Away'] == 'Osasuna', 'Home \\ Away'] = 'CA Osasuna'\n",
    "df_laliga.loc[df_laliga['Home \\ Away'] == 'Sevilla', 'Home \\ Away'] = 'Sevilla FC'\n",
    "df_laliga.loc[df_laliga['Home \\ Away'] == 'Valencia', 'Home \\ Away'] = 'Valencia CF'\n",
    "df_laliga.loc[df_laliga['Home \\ Away'] == 'Valladolid', 'Home \\ Away'] = 'Real Valladolid CF'\n",
    "df_laliga.loc[df_laliga['Home \\ Away'] == 'Villarreal', 'Home \\ Away'] = 'Villarreal CF'\n",
    "df_laliga.loc[df_laliga['Home \\ Away'] == 'Girona', 'Home \\ Away'] = 'Girona FC'\n",
    "df_laliga.loc[df_laliga['Home \\ Away'] == 'Huesca', 'Home \\ Away'] = 'SD Huesca'\n",
    "df_laliga.loc[df_laliga['Home \\ Away'] == 'Deportivo La Coruña', 'Home \\ Away'] = 'Deportivo de La Coruña'\n",
    "df_laliga.loc[df_laliga['Home \\ Away'] == 'Las Palmas', 'Home \\ Away'] = 'UD Las Palmas'\n",
    "df_laliga.loc[df_laliga['Home \\ Away'] == 'Málaga', 'Home \\ Away'] = 'Málaga CF'\n",
    "df_laliga.loc[df_laliga['Home \\ Away'] == 'Sporting Gijón', 'Home \\ Away'] = 'Real Sporting de Gijón'\n",
    "df_laliga.loc[df_laliga['Home \\ Away'] == 'Almería', 'Home \\ Away'] = 'UD Almería'\n",
    "df_laliga.loc[df_laliga['Home \\ Away'] == 'Córdoba', 'Home \\ Away'] = 'Córdoba CF'\n",
    "df_laliga.loc[df_laliga['Home \\ Away'] == 'Elche', 'Home \\ Away'] = 'Elche CF'"
   ]
  },
  {
   "cell_type": "code",
   "execution_count": 4,
   "metadata": {},
   "outputs": [],
   "source": [
    "def get_unique_values(df_param):\n",
    "    ret_list = {}\n",
    "    \n",
    "    # ret_list['Countries'] = df_param['nationality'].unique()\n",
    "    # ret_list['Clubs'] = df_param['club'].unique()\n",
    "    ret_list['Work Rate'] = df_param['work_rate'].unique().tolist()\n",
    "    ret_list['Body Type'] = df_param['body_type'].unique().tolist()\n",
    "    # print(ret_list['Work Rate'])\n",
    "    return ret_list\n",
    "\n",
    "def get_clubs_from_matchs(df_param):\n",
    "    return df_param['Home \\ Away'].unique()\n",
    "    "
   ]
  },
  {
   "cell_type": "code",
   "execution_count": 5,
   "metadata": {},
   "outputs": [],
   "source": [
    "club_ToProcess = get_clubs_from_matchs(df_laliga)\n",
    "\n",
    "for i in range(len(df_player_list)):\n",
    "    df_player_list[i] = df_player_list[i][df_player_list[i]['club'].isin(club_ToProcess)]"
   ]
  },
  {
   "cell_type": "code",
   "execution_count": 6,
   "metadata": {},
   "outputs": [
    {
     "name": "stderr",
     "output_type": "stream",
     "text": [
      "<ipython-input-6-084ba1d38dbd>:3: UserWarning: Boolean Series key will be reindexed to match DataFrame index.\n",
      "  temp = df_player_list[i][df_player_list[i]['club'] == club][~df_player_list[i]['team_position'].isin(['SUB', 'RES'])]\n",
      "<ipython-input-6-084ba1d38dbd>:6: UserWarning: Boolean Series key will be reindexed to match DataFrame index.\n",
      "  player = df_player_list[i][df_player_list[i]['club'] == club][df_player_list[i]['team_position'] == 'SUB'].head(1)\n"
     ]
    },
    {
     "name": "stdout",
     "output_type": "stream",
     "text": [
      "FC Barcelona   0   10\n",
      "Int64Index([27], dtype='int64')\n",
      "FC Barcelona   1   10\n",
      "Int64Index([93], dtype='int64')\n",
      "Athletic Club de Bilbao   1   10\n",
      "Int64Index([488], dtype='int64')\n",
      "Valencia CF   1   10\n",
      "Int64Index([189], dtype='int64')\n",
      "Real Betis   1   10\n",
      "Int64Index([1187], dtype='int64')\n",
      "Deportivo de La Coruña   1   10\n",
      "Int64Index([1066], dtype='int64')\n",
      "Real Valladolid CF   1   10\n",
      "Int64Index([1853], dtype='int64')\n",
      "RCD Mallorca   1   10\n",
      "Int64Index([2358], dtype='int64')\n",
      "FC Barcelona   2   10\n",
      "Int64Index([86], dtype='int64')\n",
      "FC Barcelona   3   10\n",
      "Int64Index([165], dtype='int64')\n"
     ]
    }
   ],
   "source": [
    "for i in range(len(df_player_list)):\n",
    "    for club in df_player_list[i]['club'].unique():\n",
    "        temp = df_player_list[i][df_player_list[i]['club'] == club][~df_player_list[i]['team_position'].isin(['SUB', 'RES'])]\n",
    "        if len(temp) <= 10:\n",
    "            print(club + \"   \" + str(i) + \"   \" + str(len(temp)))\n",
    "            player = df_player_list[i][df_player_list[i]['club'] == club][df_player_list[i]['team_position'] == 'SUB'].head(1)\n",
    "            df_player_list[i].loc[player.index[0],'team_position'] = 'EX'\n",
    "            print(player.index)"
   ]
  },
  {
   "cell_type": "code",
   "execution_count": 7,
   "metadata": {},
   "outputs": [],
   "source": [
    "dist_work_rate = []\n",
    "dist_body_type = []\n",
    "for i in range(len(df_player_list)):\n",
    "    df_player_list[i] = df_player_list[i][~df_player_list[i]['team_position'].isin(['SUB', 'RES'])]\n",
    "    \n",
    "    temp_dict = get_unique_values(df_player_list[i])\n",
    "    dist_work_rate = dist_work_rate + temp_dict['Work Rate']\n",
    "    dist_body_type = dist_body_type + temp_dict['Body Type']\n",
    "\n",
    "dist_work_rate = list(dict.fromkeys(dist_work_rate))\n",
    "dist_body_type = list(dict.fromkeys(dist_body_type))\n",
    "dist_work_rate.sort()\n",
    "dist_body_type.sort()"
   ]
  },
  {
   "cell_type": "code",
   "execution_count": 8,
   "metadata": {},
   "outputs": [],
   "source": [
    "for i in range(len(df_player_list)):\n",
    "    for item_index in range(len(dist_work_rate)):\n",
    "        df_player_list[i].loc[df_player_list[i]['work_rate'] == dist_work_rate[item_index], 'work_rate'] = item_index\n",
    "    for item_index in range(len(dist_body_type)):\n",
    "        df_player_list[i].loc[df_player_list[i]['body_type'] == dist_body_type[item_index], 'body_type'] = item_index "
   ]
  },
  {
   "cell_type": "code",
   "execution_count": 9,
   "metadata": {},
   "outputs": [],
   "source": [
    "for i in range(len(df_player_list)):\n",
    "    df_player_list[i].fillna(0,inplace=True)"
   ]
  },
  {
   "cell_type": "code",
   "execution_count": 10,
   "metadata": {},
   "outputs": [],
   "source": [
    "col_eval = ['attacking_crossing',\n",
    "       'attacking_finishing', 'attacking_heading_accuracy',\n",
    "       'attacking_short_passing', 'attacking_volleys', 'skill_dribbling',\n",
    "       'skill_curve', 'skill_fk_accuracy', 'skill_long_passing',\n",
    "       'skill_ball_control', 'movement_acceleration', 'movement_sprint_speed',\n",
    "       'movement_agility', 'movement_reactions', 'movement_balance',\n",
    "       'power_shot_power', 'power_jumping', 'power_stamina', 'power_strength',\n",
    "       'power_long_shots', 'mentality_aggression', 'mentality_interceptions',\n",
    "       'mentality_positioning', 'mentality_vision', 'mentality_penalties',\n",
    "       'mentality_composure', 'defending_marking', 'defending_standing_tackle',\n",
    "       'defending_sliding_tackle', 'goalkeeping_diving',\n",
    "       'goalkeeping_handling', 'goalkeeping_kicking',\n",
    "       'goalkeeping_positioning', 'goalkeeping_reflexes', 'ls', 'st', 'rs',\n",
    "       'lw', 'lf', 'cf', 'rf', 'rw', 'lam', 'cam', 'ram', 'lm', 'lcm', 'cm',\n",
    "       'rcm', 'rm', 'lwb', 'ldm', 'cdm', 'rdm', 'rwb', 'lb', 'lcb', 'cb',\n",
    "       'rcb', 'rb']\n",
    "for i in range(len(df_player_list)):\n",
    "    df_player_list[i][col_eval] = df_player_list[i][col_eval].replace([0],'0')"
   ]
  },
  {
   "cell_type": "code",
   "execution_count": 11,
   "metadata": {},
   "outputs": [],
   "source": [
    "def eval_expr(cell_param):\n",
    "    if isinstance(cell_param, str):\n",
    "        return eval(cell_param)\n",
    "    # print('Eval :' + str(cell_param))\n",
    "    return cell_param"
   ]
  },
  {
   "cell_type": "code",
   "execution_count": 12,
   "metadata": {},
   "outputs": [],
   "source": [
    "# (df_player_list[0][col_eval]).apply(str,axis=0)\n",
    "#(df_player_list[0]['ls']).apply(eval_expr)\n",
    "#df_player_list[0][df_player_list[0]['ls'] == 0]\n",
    "#df_player_list[0]['ls']\n",
    "for i in range(len(df_player_list)): \n",
    "    for item in col_eval:\n",
    "        df_player_list[i][item] = (df_player_list[i][item]).apply(eval_expr)\n",
    "        # print('Done :' + item)"
   ]
  },
  {
   "cell_type": "code",
   "execution_count": 13,
   "metadata": {},
   "outputs": [],
   "source": [
    "for i in range(len(df_player_list)):\n",
    "    df_player_list[i] = df_player_list[i].drop(columns=['Year', 'sofifa_id', 'short_name', 'nationality', 'preferred_foot', 'team_position', 'nation_position', 'player_traits'])"
   ]
  },
  {
   "cell_type": "code",
   "execution_count": 14,
   "metadata": {},
   "outputs": [],
   "source": [
    "def get_season(year):\n",
    "   \n",
    "    \n",
    "    if year == '2019-20':\n",
    "        return 5\n",
    "    elif year == '2018-19':\n",
    "        return 4\n",
    "    elif year == '2017-18':\n",
    "        return 3\n",
    "    elif year == '2016-17':\n",
    "        return 2\n",
    "    elif year == '2015-16':\n",
    "        return 1\n",
    "    elif year == '2014-15':\n",
    "        return 0\n",
    "    \n",
    "    return 'No'\n",
    "    "
   ]
  },
  {
   "cell_type": "code",
   "execution_count": 15,
   "metadata": {},
   "outputs": [
    {
     "name": "stderr",
     "output_type": "stream",
     "text": [
      "/home/ghalibsaleem/anaconda3/envs/mlenv/lib/python3.8/site-packages/pandas/core/frame.py:3990: SettingWithCopyWarning: \n",
      "A value is trying to be set on a copy of a slice from a DataFrame\n",
      "\n",
      "See the caveats in the documentation: https://pandas.pydata.org/pandas-docs/stable/user_guide/indexing.html#returning-a-view-versus-a-copy\n",
      "  return super().drop(\n"
     ]
    }
   ],
   "source": [
    "year = 2020\n",
    "df_laliga.drop(columns=['Pos','Pld', 'W', 'D', 'L'])\n",
    "all_matches = []\n",
    "all_home =[]\n",
    "all_away = []\n",
    "all_sc_home = []\n",
    "all_sc_away = []\n",
    "\n",
    "for index in range(len(df_laliga)):\n",
    "    home_name = df_laliga['Home \\ Away'][index]\n",
    "    season = df_laliga['Season'][index]\n",
    "    player_year = get_season(season)\n",
    "    home_team = df_player_list[player_year][df_player_list[player_year]['club'] == home_name]\n",
    "    \n",
    "    for away in range(20):\n",
    "        if df_laliga['S. No'][index] != away + 1:\n",
    "            away_name = df_laliga.loc[np.logical_and(df_laliga['S. No'] == away + 1, df_laliga['Season'] == season)]['Home \\ Away'].values[0]\n",
    "            away_team = df_player_list[player_year][df_player_list[player_year]['club'] == away_name]\n",
    "            score = df_laliga['S.No. ' + str(away + 1)][index]\n",
    "            score = score.split('–')\n",
    "            if 'club' in home_team.columns:\n",
    "                home_team.drop(columns=['club'], inplace=True)\n",
    "            if 'club' in away_team.columns:\n",
    "                away_team.drop(columns=['club'], inplace=True)\n",
    "            # away_team = away_team.drop(columns=['club'])\n",
    "            \n",
    "            if (len(home_team) == 0):\n",
    "                print (index)\n",
    "                print(home_name)\n",
    "            all_home.append(home_team)\n",
    "            all_away.append(away_team)\n",
    "            all_sc_home.append(int(score[0]))\n",
    "            all_sc_away.append(int(score[1]))\n",
    "            match_details = [home_team, away_team, score[0], score[1]]\n",
    "            all_matches.append(match_details)\n",
    "df_matches = pd.DataFrame()\n",
    "df_matches['Home'] = all_home\n",
    "df_matches['Away'] = all_away\n",
    "df_matches['Hscore'] = all_sc_home\n",
    "df_matches['Ascore'] = all_sc_away"
   ]
  },
  {
   "cell_type": "code",
   "execution_count": 16,
   "metadata": {},
   "outputs": [],
   "source": [
    "with open('output/data.ser', 'wb') as fl:\n",
    "    pickle.dump(all_matches, fl)\n",
    "with open('output/dfdata.ser', 'wb') as fl:\n",
    "    pickle.dump(df_matches, fl)"
   ]
  },
  {
   "cell_type": "code",
   "execution_count": null,
   "metadata": {},
   "outputs": [],
   "source": [
    "\n",
    "    "
   ]
  }
 ],
 "metadata": {
  "kernelspec": {
   "display_name": "Python 3",
   "language": "python",
   "name": "python3"
  },
  "language_info": {
   "codemirror_mode": {
    "name": "ipython",
    "version": 3
   },
   "file_extension": ".py",
   "mimetype": "text/x-python",
   "name": "python",
   "nbconvert_exporter": "python",
   "pygments_lexer": "ipython3",
   "version": "3.8.3"
  }
 },
 "nbformat": 4,
 "nbformat_minor": 4
}
