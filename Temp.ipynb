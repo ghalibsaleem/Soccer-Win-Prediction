{
 "cells": [
  {
   "cell_type": "code",
   "execution_count": 1,
   "metadata": {},
   "outputs": [],
   "source": [
    "import pickle\n",
    "import numpy as np\n",
    "import pandas as pd\n",
    "import tensorflow as tf\n",
    "from tensorflow import keras as kr"
   ]
  },
  {
   "cell_type": "code",
   "execution_count": 2,
   "metadata": {},
   "outputs": [],
   "source": [
    "with open('output/dfdata.ser', 'rb') as fl:\n",
    "    main_data = pickle.load(fl)"
   ]
  },
  {
   "cell_type": "code",
   "execution_count": 5,
   "metadata": {},
   "outputs": [
    {
     "name": "stderr",
     "output_type": "stream",
     "text": [
      "<ipython-input-5-ffbfcb272dae>:2: SettingWithCopyWarning: \n",
      "A value is trying to be set on a copy of a slice from a DataFrame\n",
      "\n",
      "See the caveats in the documentation: https://pandas.pydata.org/pandas-docs/stable/user_guide/indexing.html#returning-a-view-versus-a-copy\n",
      "  main_data['Home'][index] = main_data['Home'][index].to_numpy()\n",
      "<ipython-input-5-ffbfcb272dae>:3: SettingWithCopyWarning: \n",
      "A value is trying to be set on a copy of a slice from a DataFrame\n",
      "\n",
      "See the caveats in the documentation: https://pandas.pydata.org/pandas-docs/stable/user_guide/indexing.html#returning-a-view-versus-a-copy\n",
      "  main_data['Away'][index] = main_data['Away'][index].to_numpy()\n"
     ]
    }
   ],
   "source": [
    "for index in range(len(main_data['Home'])):\n",
    "    main_data['Home'][index] = main_data['Home'][index].to_numpy()\n",
    "    main_data['Away'][index] = main_data['Away'][index].to_numpy()"
   ]
  },
  {
   "cell_type": "code",
   "execution_count": 6,
   "metadata": {},
   "outputs": [],
   "source": [
    "input_data = main_data['Home']\n",
    "output_data = main_data['Hscore']\n",
    "\n",
    "input_data = input_data.to_numpy()\n",
    "output_data = output_data.to_numpy()"
   ]
  },
  {
   "cell_type": "code",
   "execution_count": 8,
   "metadata": {},
   "outputs": [],
   "source": [
    "for index in range(len(input_data)):\n",
    "    input_data[index] = input_data[index].flatten()\n",
    "    input_data[index] = input_data[index].tolist()\n",
    "    output_data[index] = output_data[index].flatten()\n",
    "input_data = input_data.tolist()"
   ]
  },
  {
   "cell_type": "code",
   "execution_count": null,
   "metadata": {},
   "outputs": [],
   "source": [
    "count = 0\n",
    "for item in input_data:\n",
    "    count +=1\n",
    "    if len(item) != 902:\n",
    "        print(len(item))"
   ]
  },
  {
   "cell_type": "code",
   "execution_count": 10,
   "metadata": {},
   "outputs": [],
   "source": [
    "\n",
    "input_data = tf.convert_to_tensor(input_data,np.float32)"
   ]
  },
  {
   "cell_type": "code",
   "execution_count": 11,
   "metadata": {},
   "outputs": [],
   "source": [
    "output_data = tf.convert_to_tensor(output_data, np.float32)"
   ]
  },
  {
   "cell_type": "code",
   "execution_count": null,
   "metadata": {},
   "outputs": [],
   "source": [
    "tests.tolist()"
   ]
  },
  {
   "cell_type": "code",
   "execution_count": null,
   "metadata": {},
   "outputs": [],
   "source": []
  },
  {
   "cell_type": "code",
   "execution_count": 14,
   "metadata": {},
   "outputs": [],
   "source": [
    "model1 = kr.Sequential()\n",
    "# model1.add(kr.layers.Flatten())\n",
    "model1.add(kr.layers.Dense(902, activation='relu'))\n",
    "model1.add(kr.layers.Dense(1804, activation='relu'))\n",
    "model1.add(kr.layers.Dense(1804, activation='relu'))\n",
    "model1.add(kr.layers.Dense(1804, activation='relu'))\n",
    "model1.add(kr.layers.Dense(1804, activation='relu'))\n",
    "model1.add(kr.layers.Dense(902, activation='relu'))\n",
    "model1.add(kr.layers.Dense(1, activation='relu'))"
   ]
  },
  {
   "cell_type": "code",
   "execution_count": 15,
   "metadata": {},
   "outputs": [],
   "source": [
    "model1.compile(loss=tf.keras.losses.MeanAbsolutePercentageError(), optimizer=\"adam\", metrics=[\"accuracy\"])"
   ]
  },
  {
   "cell_type": "code",
   "execution_count": 16,
   "metadata": {},
   "outputs": [
    {
     "name": "stdout",
     "output_type": "stream",
     "text": [
      "Epoch 1/5\n",
      "72/72 [==============================] - 4s 58ms/step - loss: 32891556.0000 - accuracy: 0.2303\n",
      "Epoch 2/5\n",
      "72/72 [==============================] - 4s 56ms/step - loss: 76.5789 - accuracy: 0.2342\n",
      "Epoch 3/5\n",
      "72/72 [==============================] - 4s 59ms/step - loss: 76.5789 - accuracy: 0.2342\n",
      "Epoch 4/5\n",
      "72/72 [==============================] - 5s 63ms/step - loss: 76.5789 - accuracy: 0.2342\n",
      "Epoch 5/5\n",
      "72/72 [==============================] - 4s 60ms/step - loss: 76.5789 - accuracy: 0.2342\n"
     ]
    },
    {
     "data": {
      "text/plain": [
       "<tensorflow.python.keras.callbacks.History at 0x7fe3f420c250>"
      ]
     },
     "execution_count": 16,
     "metadata": {},
     "output_type": "execute_result"
    }
   ],
   "source": [
    "model1.fit(x=input_data, y=output_data, epochs=5)"
   ]
  },
  {
   "cell_type": "code",
   "execution_count": null,
   "metadata": {},
   "outputs": [],
   "source": []
  }
 ],
 "metadata": {
  "kernelspec": {
   "display_name": "Python 3",
   "language": "python",
   "name": "python3"
  },
  "language_info": {
   "codemirror_mode": {
    "name": "ipython",
    "version": 3
   },
   "file_extension": ".py",
   "mimetype": "text/x-python",
   "name": "python",
   "nbconvert_exporter": "python",
   "pygments_lexer": "ipython3",
   "version": "3.8.3"
  }
 },
 "nbformat": 4,
 "nbformat_minor": 4
}
